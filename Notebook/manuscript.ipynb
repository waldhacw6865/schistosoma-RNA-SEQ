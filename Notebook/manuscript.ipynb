{
 "cells": [
  {
   "attachments": {},
   "cell_type": "markdown",
   "metadata": {},
   "source": [
    "Introduction"
   ]
  },
  {
   "attachments": {},
   "cell_type": "markdown",
   "metadata": {},
   "source": [
    "_Schistosoma mansoni_ is a parasitic worm that has a very interesting life cycle. They lay their eggs in the intestines of human hosts and are excreted back into the wild. Where they will find a host snail the eggs then infect the snail until they reach full maturity. Once they reach the larva stage. They then crawl out the snail and end up in the water where they try to infect a human by burrowing through the skin. Where they end up laying their eggs. ​However, some of these eggs don’t reach maturity since they end up landing in the liver where they would eventually end up dying. Although these eggs in the liver don’t continue their life cycle, they still grow and express significant transcriptomic information that can be examined. Scientists have used the eggs in the liver for many years on their experiments since they are easier to collect. So if there is a significant difference then all those decades of research are in jeopardy. We wanted to see if there is any significant difference between the liver and the intestinal groups by using bioinformatics tools to examine their RNA."
   ]
  },
  {
   "attachments": {},
   "cell_type": "markdown",
   "metadata": {},
   "source": [
    "Methods"
   ]
  },
  {
   "attachments": {},
   "cell_type": "markdown",
   "metadata": {},
   "source": [
    "We recieved our genome data set containing the neccesary information needed to complete the project. We first unzipped the _S mansoni_ genome using \"gzip version 1.9\" this version of the genome had no edits what so ever and was raw uncut data. After unzipping our data we then took it through the process of trimming using \"cutadapt version 5.0\" we trimmed the data to get rid of the duplicate data. Next we QC the prevousilty trimmed dataset using \"FastQC version 0.12.1 and MultiQC version 1.25.2.\" QC was performed on the data to see which samples could be used. Using \"STAR version 2.7.11b\" they were aligned with the starting genome to see how much variance was between the liver and intestine groups.​ After aligning we then removed any duplicate sequences using \"picard version 2.3.\" This was useful so we didn't count the same data twice leading to large amounts of duplication. Lastly we used \"RScript version 4.3.3\" to use differential expression on the PCA tests to see where there would be high concentrations of groups.​ Then we analyzed the data to create our desired charts and graphs."
   ]
  },
  {
   "attachments": {},
   "cell_type": "markdown",
   "metadata": {},
   "source": [
    "RNA extraction, library preparation, and sequencing"
   ]
  },
  {
   "attachments": {},
   "cell_type": "markdown",
   "metadata": {},
   "source": [
    "We recieved our genome data set containing the neccesary information needed to complete the project. We first unzipped the _S mansoni_ genome using \"gzip version 1.9\" this version of the genome had no edits what so ever and was raw uncut data. After unzipping our data we then took it through the process of trimming using \"cutadapt version 5.0\" we trimmed the data to get rid of the duplicate data."
   ]
  },
  {
   "attachments": {},
   "cell_type": "markdown",
   "metadata": {},
   "source": [
    "Read QC and alignment"
   ]
  },
  {
   "attachments": {},
   "cell_type": "markdown",
   "metadata": {},
   "source": [
    "Next we QC the prevousilty trimmed dataset using \"FastQC version 0.12.1 and MultiQC version 1.25.2.\" QC was performed on the data to see which samples could be used. Using \"STAR version 2.7.11b\" they were aligned with the starting genome to see how much variance was between the liver and intestine groups.​ After aligning we then removed any duplicate sequences using \"picard version 2.3.\" This was useful so we didn't count the same data twice leading to large amounts of duplication. Lastly we used \"RScript version 4.3.3\" to use differential expression on the PCA tests to see where there would be high concentrations of groups.​ Then we analyzed the data to create our desired charts and graphs."
   ]
  },
  {
   "attachments": {},
   "cell_type": "markdown",
   "metadata": {},
   "source": [
    "Identification of differentially expressed genes and GO analysis"
   ]
  },
  {
   "cell_type": "markdown",
   "metadata": {},
   "source": []
  },
  {
   "attachments": {},
   "cell_type": "markdown",
   "metadata": {},
   "source": [
    "Results"
   ]
  },
  {
   "cell_type": "markdown",
   "metadata": {},
   "source": []
  },
  {
   "attachments": {},
   "cell_type": "markdown",
   "metadata": {},
   "source": [
    "RNA sequencing, alignment, and sample clustering"
   ]
  },
  {
   "cell_type": "markdown",
   "metadata": {},
   "source": []
  },
  {
   "attachments": {},
   "cell_type": "markdown",
   "metadata": {},
   "source": [
    "Identification of differentially expressed genes"
   ]
  },
  {
   "cell_type": "markdown",
   "metadata": {},
   "source": []
  },
  {
   "attachments": {},
   "cell_type": "markdown",
   "metadata": {},
   "source": [
    "Identification of pathways and/or GO annotations that are differentially expressed"
   ]
  },
  {
   "cell_type": "markdown",
   "metadata": {},
   "source": []
  },
  {
   "attachments": {},
   "cell_type": "markdown",
   "metadata": {},
   "source": [
    "Discussion"
   ]
  },
  {
   "cell_type": "markdown",
   "metadata": {},
   "source": []
  },
  {
   "attachments": {},
   "cell_type": "markdown",
   "metadata": {},
   "source": [
    "References"
   ]
  },
  {
   "cell_type": "markdown",
   "metadata": {},
   "source": []
  }
 ],
 "metadata": {
  "language_info": {
   "name": "python"
  },
  "orig_nbformat": 4
 },
 "nbformat": 4,
 "nbformat_minor": 2
}
