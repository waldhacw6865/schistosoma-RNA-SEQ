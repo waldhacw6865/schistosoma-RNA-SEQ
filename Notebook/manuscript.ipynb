{
 "cells": [
  {
   "attachments": {},
   "cell_type": "markdown",
   "metadata": {},
   "source": [
    "Introduction"
   ]
  },
  {
   "attachments": {},
   "cell_type": "markdown",
   "metadata": {},
   "source": [
    "_Schistosoma mansoni_ is a parasitic worm with a life cycle that involves a human and a snail host. In the humans, the adult worms will lay eggs in the blood vessels around the intestines. In which many of the eggs are passed to continue their cycle. However, some eggs become trapped in the liver, where they eventually die. Although they don't finish development these eggs trapped in the liver remain transcriptionally active and have been used in research for many years. Because they are a lot easier to collect rather than intestinal eggs. If eggs trapped in the liver differ significantly in their gene expression compared to intestinal eggs. Then the findings from years of research based soley on the liver eggs might not accurately reflect the findings of those studies. To see whether there are significant transcriptomic differences between _Schistosoma mansoni_ eggs located in the liver and intestines we used RNA sequencing with the help of bioinformatics tools. These will help determine if liver worm samples are a reliable for studying the parasite's stages."
   ]
  },
  {
   "attachments": {},
   "cell_type": "markdown",
   "metadata": {},
   "source": [
    "Methods"
   ]
  },
  {
   "attachments": {},
   "cell_type": "markdown",
   "metadata": {},
   "source": [
    "We received our genome dataset containing the sequencing data required. The _Schistosoma mansoni_ genome was first unzipped using gzip version 1.9. This version of the genome was unedited data. Following decompression, we performed trimming using Cutadapt version 5.0 to remove low-quality sequences and eliminate duplicate reads. Improving the quality of the dataset. After trimming the data we conducted quality control using FastQC version 0.12.1 and MultiQC version 1.25.2. Next, we aligned the clean reads to the reference genome using STAR version 2.7.11b, this would allow us to see how the liver and intestinal egg groups mapped back to the refrence genome and assess any major difference in alignment reads. After aligning, we used Picard version 2.3 to mark and remove duplicate sequences ensuring that PCR duplicates would not add to the read counts. For differential expression analysis, we used R version 4.3.3 to perform PCA and identify clustering patterns and differences between the liver and intestinal groups. Finally, the processed data was used to generate visualizations—charts and graphs—that illustrate expression differences and support our conclusions."
   ]
  },
  {
   "attachments": {},
   "cell_type": "markdown",
   "metadata": {},
   "source": [
    "RNA extraction, library preparation, and sequencing"
   ]
  },
  {
   "cell_type": "markdown",
   "metadata": {},
   "source": []
  },
  {
   "attachments": {},
   "cell_type": "markdown",
   "metadata": {},
   "source": [
    "We received the genome dataset containing the raw data required. The _Schistosoma mansoni_ genome was unzipped using gzip version 1.9 this version of the genome was unedited and represented the raw, unprocessed sequenceing data. Following decompression, we performed read trimming using Cutadapt version 5.0 to remove duplicate sequences and improve overall data quality."
   ]
  },
  {
   "attachments": {},
   "cell_type": "markdown",
   "metadata": {},
   "source": [
    "Read QC and alignment"
   ]
  },
  {
   "attachments": {},
   "cell_type": "markdown",
   "metadata": {},
   "source": [
    "Next we QC the prevousilty trimmed dataset using \"FastQC version 0.12.1 and MultiQC version 1.25.2.\" QC was performed on the data to see which samples could be used. Using \"STAR version 2.7.11b\" they were aligned with the starting genome to see how much variance was between the liver and intestine groups.​ After aligning we then removed any duplicate sequences using \"picard version 2.3.\" This was useful so we didn't count the same data twice leading to large amounts of duplication. Lastly we used \"RScript version 4.3.3\" to use differential expression on the PCA tests to see where there would be high concentrations of groups.​ Then we analyzed the data to create our desired charts and graphs."
   ]
  },
  {
   "attachments": {},
   "cell_type": "markdown",
   "metadata": {},
   "source": [
    "Identification of differentially expressed genes and GO analysis"
   ]
  },
  {
   "cell_type": "markdown",
   "metadata": {},
   "source": []
  },
  {
   "attachments": {},
   "cell_type": "markdown",
   "metadata": {},
   "source": [
    "Results"
   ]
  },
  {
   "cell_type": "markdown",
   "metadata": {},
   "source": []
  },
  {
   "attachments": {},
   "cell_type": "markdown",
   "metadata": {},
   "source": [
    "RNA sequencing, alignment, and sample clustering"
   ]
  },
  {
   "cell_type": "markdown",
   "metadata": {},
   "source": []
  },
  {
   "attachments": {},
   "cell_type": "markdown",
   "metadata": {},
   "source": [
    "Identification of differentially expressed genes"
   ]
  },
  {
   "cell_type": "markdown",
   "metadata": {},
   "source": []
  },
  {
   "attachments": {},
   "cell_type": "markdown",
   "metadata": {},
   "source": [
    "Identification of pathways and/or GO annotations that are differentially expressed"
   ]
  },
  {
   "cell_type": "markdown",
   "metadata": {},
   "source": []
  },
  {
   "attachments": {},
   "cell_type": "markdown",
   "metadata": {},
   "source": [
    "Discussion"
   ]
  },
  {
   "attachments": {},
   "cell_type": "markdown",
   "metadata": {},
   "source": [
    "We will research other parasitic species to see if there is a trend in this type of data​\n",
    "\n",
    "We will analyze if there are any other host organisms that would give these results.​\n",
    "\n",
    "We will figure out why we examined these results and the survival mechanisms behind them."
   ]
  },
  {
   "attachments": {},
   "cell_type": "markdown",
   "metadata": {},
   "source": [
    "References"
   ]
  },
  {
   "attachments": {},
   "cell_type": "markdown",
   "metadata": {},
   "source": [
    "2018 Open OnDemand: A web-based client portal for HPC\n",
    "centers. Available at:\n",
    "https://joss.theoj.org/papers/10.21105/joss.00622.​\n",
    "\n",
    "2019 STARmanual2.7.0a. Available at:\n",
    "https://physiology.med.cornell.edu/faculty/skrabanek/lab/angs\n",
    "d/lecture_notes/STARmanual.pdf. ​"
   ]
  }
 ],
 "metadata": {
  "language_info": {
   "name": "python"
  },
  "orig_nbformat": 4
 },
 "nbformat": 4,
 "nbformat_minor": 2
}
