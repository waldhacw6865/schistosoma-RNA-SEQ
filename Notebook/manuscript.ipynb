{
 "cells": [
  {
   "attachments": {},
   "cell_type": "markdown",
   "metadata": {},
   "source": [
    "*Introduction*"
   ]
  },
  {
   "attachments": {},
   "cell_type": "markdown",
   "metadata": {},
   "source": [
    "_Schistosoma mansoni_ is a parasitic worm with a life cycle that involves a human and a snail host. In the humans, the adult worms will lay eggs in the blood vessels around the intestines. In which many of the eggs are passed to continue their cycle. However, some eggs become trapped in the liver, where they eventually die. Although they don't finish development these eggs trapped in the liver remain transcriptionally active and have been used in research for many years. Because they are a lot easier to collect rather than intestinal eggs. If eggs trapped in the liver differ significantly in their gene expression compared to intestinal eggs. Then the findings from years of research based soley on the liver eggs might not accurately reflect the findings of those studies. To see whether there are significant transcriptomic differences between _Schistosoma mansoni_ eggs located in the liver and intestines we used RNA sequencing with the help of bioinformatics tools. These will help determine if liver worm samples are a reliable for studying the parasite's stages."
   ]
  },
  {
   "attachments": {},
   "cell_type": "markdown",
   "metadata": {},
   "source": [
    "*Methods*"
   ]
  },
  {
   "attachments": {},
   "cell_type": "markdown",
   "metadata": {},
   "source": [
    "RNA extraction, library preparation, and sequencing. (This will be written by Dr. Wheeler)"
   ]
  },
  {
   "attachments": {},
   "cell_type": "markdown",
   "metadata": {},
   "source": [
    "Read QC and alignment"
   ]
  },
  {
   "attachments": {},
   "cell_type": "markdown",
   "metadata": {},
   "source": [
    "Next we QC the prevousilty trimmed dataset using \"FastQC version 0.12.1 and MultiQC version 1.25.2.\" QC was performed on the data to see which samples could be used. Using \"STAR version 2.7.11b\" they were aligned with the starting genome to see how much variance was between the liver and intestine groups.​ After aligning we then removed any duplicate sequences using \"picard version 2.3.\" This was useful so we didn't count the same data twice leading to large amounts of duplication. Lastly we used \"RScript version 4.3.3\" to use differential expression on the PCA tests to see where there would be high concentrations of groups.​ Then we analyzed the data to create our desired charts and graphs."
   ]
  },
  {
   "attachments": {},
   "cell_type": "markdown",
   "metadata": {},
   "source": [
    "Identification of differentially expressed genes and GO analysis"
   ]
  },
  {
   "attachments": {},
   "cell_type": "markdown",
   "metadata": {},
   "source": [
    "RNA counts were used in R by removing genes with zero counts in all of the samples. The provided matrix was used for differential expression using \"DESeq2 v1.46.0.\" Genes with an absolute value of log2 fold change was greater than 2 and an adjusted p-value of 0.05 or less was considered significantly differentially expressed. These genes were then sent to gProfiler2 \"v0.2.3.\" for enrichment analysis."
   ]
  },
  {
   "attachments": {},
   "cell_type": "markdown",
   "metadata": {},
   "source": [
    "*Results*"
   ]
  },
  {
   "attachments": {},
   "cell_type": "markdown",
   "metadata": {},
   "source": [
    "RNA sequencing, alignment, and sample clustering"
   ]
  },
  {
   "cell_type": "code",
   "execution_count": null,
   "metadata": {},
   "outputs": [
    {
     "ename": "",
     "evalue": "",
     "output_type": "error",
     "traceback": [
      "\u001b[1;31mFailed to start the Kernel. \n",
      "\u001b[1;31munknown option --slave\n",
      "\u001b[1;31musage: /data/software/python-libs/3.0.0/envs/UB-Squirrel/bin/python [option] ... [-c cmd | -m mod | file | -] [arg] ...\n",
      "\u001b[1;31mTry `python -h' for more information. \n",
      "\u001b[1;31mView Jupyter <a href='command:jupyter.viewOutput'>log</a> for further details."
     ]
    }
   ],
   "source": []
  },
  {
   "attachments": {},
   "cell_type": "markdown",
   "metadata": {},
   "source": [
    "Identification of differentially expressed genes"
   ]
  },
  {
   "cell_type": "markdown",
   "metadata": {},
   "source": []
  },
  {
   "attachments": {},
   "cell_type": "markdown",
   "metadata": {},
   "source": [
    "Identification of pathways and/or GO annotations that are differentially expressed"
   ]
  },
  {
   "cell_type": "markdown",
   "metadata": {},
   "source": []
  },
  {
   "attachments": {},
   "cell_type": "markdown",
   "metadata": {},
   "source": [
    "*Discussion*"
   ]
  },
  {
   "attachments": {},
   "cell_type": "markdown",
   "metadata": {},
   "source": [
    "The research showed that _S. mansoni_ coming from the liver show a significant differences in genetic expression when compared to the intestines. In the future it would be interesting to investigate whether _S mansoni_ from the liver and intestines continue to show gene expression differences later in their life cycle. Since most prior experiments involving _S. mansoni_ have focused on specimens from the liver it’s important to determine whether or not those findings hold true for parasites from the intestines the ones that actually go on to complete the life cycle."
   ]
  },
  {
   "attachments": {},
   "cell_type": "markdown",
   "metadata": {},
   "source": [
    "*References*"
   ]
  },
  {
   "attachments": {},
   "cell_type": "markdown",
   "metadata": {},
   "source": [
    "2018 Open OnDemand: A web-based client portal for HPC\n",
    "centers. Available at:\n",
    "https://joss.theoj.org/papers/10.21105/joss.00622.​\n",
    "\n",
    "2019 STARmanual2.7.0a. Available at:\n",
    "https://physiology.med.cornell.edu/faculty/skrabanek/lab/angs\n",
    "d/lecture_notes/STARmanual.pdf. ​"
   ]
  }
 ],
 "metadata": {
  "kernelspec": {
   "display_name": "R",
   "language": "python",
   "name": "ir"
  },
  "language_info": {
   "name": "python",
   "version": "3.12.4"
  },
  "orig_nbformat": 4
 },
 "nbformat": 4,
 "nbformat_minor": 2
}
